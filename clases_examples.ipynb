{
 "cells": [
  {
   "cell_type": "markdown",
   "id": "9ecfd717-0278-4c67-b19f-c99cf6601417",
   "metadata": {},
   "source": [
    "# Example of classes in Python"
   ]
  },
  {
   "cell_type": "code",
   "execution_count": 5,
   "id": "d1dad823-03b4-426a-9dad-96e87b180be7",
   "metadata": {},
   "outputs": [],
   "source": [
    "import numpy as np\n",
    "class Complex:\n",
    "    # Constructor of the class\n",
    "    def __init__(self, realpart, imagpart):\n",
    "        self.r = realpart\n",
    "        self.i = imagpart\n",
    "    # declaration of methods\n",
    "    def module(self):\n",
    "        self.module = np.sqrt(self.r*self.r+self.i*self.i)\n",
    "        return self.module\n",
    "    def angle(self):\n",
    "        self.angle = np.arctan(self.i/self.r)\n",
    "        return self.angle"
   ]
  },
  {
   "cell_type": "code",
   "execution_count": 6,
   "id": "d485baa1-9d48-438d-8650-24aceb9365d2",
   "metadata": {},
   "outputs": [
    {
     "name": "stdout",
     "output_type": "stream",
     "text": [
      "3.0\n",
      "4.0\n",
      "5.0\n",
      "0.9272952180016122\n"
     ]
    }
   ],
   "source": [
    "x = Complex(3.0,4.0)\n",
    "print(x.r)\n",
    "print(x.i)\n",
    "print(x.module())\n",
    "print(x.angle())"
   ]
  },
  {
   "cell_type": "code",
   "execution_count": 7,
   "id": "b70eeefe-e06f-4e99-bcc8-1088226438d7",
   "metadata": {},
   "outputs": [],
   "source": [
    "import sys\n",
    "class Fraccion:\n",
    "    def __init__(self,x,y):\n",
    "        self.a=int(x)\n",
    "        self.b=int(y)\n",
    "        if self.b==0: raise Exception(\"denominador cero\")\n",
    "    def mcd(self):\n",
    "        if self.a==self.b: return self.a\n",
    "        elif self.a>self.b: return Fraccion(self.a-self.b,self.b).mcd()\n",
    "        else: return Fraccion(self.b-self.a,self.a).mcd()\n",
    "    def string(self):\n",
    "        return str(self.a)+\"/\"+str(self.b)\n",
    "    def mayorQue(self,x):\n",
    "        return self.a*x.b > self.b*x.a\n",
    "    def suma(self,x):\n",
    "        z = Fraccion((self.a*x.b+self.b*x.a),(self.b*x.b)).mcd()\n",
    "        return Fraccion((self.a*x.b+self.b*x.a)/z ,(self.b*x.b)/z)\n",
    "    def resta(self,x):\n",
    "        z = Fraccion(self.a*x.b-self.b*x.a ,self.b*x.b).mcd()\n",
    "        return Fraccion((self.a*x.b-self.b*x.a)/z ,self.b*x.b/z)\n",
    "    def multiplicacion(self,x):\n",
    "        z = Fraccion(self.a*x.a,self.b*x.b).mcd()\n",
    "        return Fraccion(self.a*x.a/z,self.b*x.b/z)\n",
    "    def division(self,x):\n",
    "        z = Fraccion(self.a*x.b,self.b*x.a).mcd()\n",
    "        return Fraccion(self.a*x.b/z,self.b*x.a/z)\n",
    "    def operacion(self,y,oper):\n",
    "        if oper==\"+\": return self.suma(y)\n",
    "        elif oper==\"-\": return self.resta(y)\n",
    "        elif oper==\"*\": return self.multiplicacion(y)\n",
    "        elif oper==\"/\": return self.division(y)\n",
    "        else: return print(\"operacion invalida\")"
   ]
  },
  {
   "cell_type": "code",
   "execution_count": 8,
   "id": "196f4c6a-097c-4c96-a377-cf98d50a7604",
   "metadata": {},
   "outputs": [
    {
     "name": "stdin",
     "output_type": "stream",
     "text": [
      "ingrese operacion que desea realizar:+,-,* o /: +\n"
     ]
    },
    {
     "name": "stdout",
     "output_type": "stream",
     "text": [
      "49/30\n",
      "3\n",
      "2\n",
      "3/2\n",
      "49/30\n"
     ]
    }
   ],
   "source": [
    "x= Fraccion(3,2)\n",
    "y= Fraccion(2,15)\n",
    "operacion =input(\"ingrese operacion que desea realizar:+,-,* o /:\")\n",
    "print(x.operacion(y,operacion).string())\n",
    "print(x.a)\n",
    "print(x.b)\n",
    "print(x.string())\n",
    "print(x.suma(y).string())"
   ]
  }
 ],
 "metadata": {
  "kernelspec": {
   "display_name": "Python 3 (ipykernel)",
   "language": "python",
   "name": "python3"
  },
  "language_info": {
   "codemirror_mode": {
    "name": "ipython",
    "version": 3
   },
   "file_extension": ".py",
   "mimetype": "text/x-python",
   "name": "python",
   "nbconvert_exporter": "python",
   "pygments_lexer": "ipython3",
   "version": "3.9.12"
  }
 },
 "nbformat": 4,
 "nbformat_minor": 5
}
